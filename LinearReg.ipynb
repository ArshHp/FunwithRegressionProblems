{
 "cells": [
  {
   "cell_type": "markdown",
   "metadata": {},
   "source": [
    "# Solving matrix using simultaneous equation"
   ]
  },
  {
   "cell_type": "raw",
   "metadata": {},
   "source": [
    "Problem Statement: Solve following matrix \n",
    "\n",
    "x + y + z = 6\n",
    "2y + 5z = -4\n",
    "2x + 5y -z = 27"
   ]
  },
  {
   "cell_type": "code",
   "execution_count": 1,
   "metadata": {},
   "outputs": [],
   "source": [
    "import numpy as np #Import the numpy module to using linear algebra function"
   ]
  },
  {
   "cell_type": "code",
   "execution_count": 2,
   "metadata": {},
   "outputs": [],
   "source": [
    "A=[[1,1,1],[0,2,5],[2,5,-1]] #Based on given inputs on left side of equation, create an array of lists"
   ]
  },
  {
   "cell_type": "code",
   "execution_count": 3,
   "metadata": {},
   "outputs": [],
   "source": [
    "B=[6,-4,27] #Based on given inputs on right side of equation, create a list"
   ]
  },
  {
   "cell_type": "code",
   "execution_count": 4,
   "metadata": {},
   "outputs": [],
   "source": [
    "x=np.linalg.solve(A,B) #Using numpy linear algebra function to calculate linear equation"
   ]
  },
  {
   "cell_type": "code",
   "execution_count": 5,
   "metadata": {},
   "outputs": [
    {
     "name": "stdout",
     "output_type": "stream",
     "text": [
      "[ 5.  3. -2.]\n"
     ]
    }
   ],
   "source": [
    "print(x) #Print the output of resultant x "
   ]
  },
  {
   "cell_type": "markdown",
   "metadata": {},
   "source": [
    "Lets validate the results by putting the values back into equation"
   ]
  },
  {
   "cell_type": "raw",
   "metadata": {},
   "source": [
    "x=5, y=3 and z=-2"
   ]
  },
  {
   "cell_type": "raw",
   "metadata": {},
   "source": [
    "Put the values into below given equation to validate the results\n",
    "x + y + z = 6\n",
    "2y + 5z = -4\n",
    "2x + 5y -z = 27"
   ]
  },
  {
   "cell_type": "code",
   "execution_count": 6,
   "metadata": {},
   "outputs": [
    {
     "name": "stdout",
     "output_type": "stream",
     "text": [
      "6\n"
     ]
    }
   ],
   "source": [
    "#First Equation\n",
    "#x + y + z = 6\n",
    "print((5)+(3)+(-2))"
   ]
  },
  {
   "cell_type": "code",
   "execution_count": 7,
   "metadata": {},
   "outputs": [
    {
     "name": "stdout",
     "output_type": "stream",
     "text": [
      "-4\n"
     ]
    }
   ],
   "source": [
    "#Second Equation\n",
    "#2y + 5z = -4\n",
    "print(2*(3) + 5*(-2))"
   ]
  },
  {
   "cell_type": "code",
   "execution_count": 8,
   "metadata": {},
   "outputs": [
    {
     "name": "stdout",
     "output_type": "stream",
     "text": [
      "27\n"
     ]
    }
   ],
   "source": [
    "#Third Equation\n",
    "#2x + 5y -z = 27\n",
    "print(2*(5) + 5*(3) - 1*(-2))"
   ]
  },
  {
   "cell_type": "raw",
   "metadata": {},
   "source": [
    "Based on validation, the values are matching with the values given in the right side of equation.\n",
    "x + y + z = 6\n",
    "2y + 5z = -4\n",
    "2x + 5y -z = 27"
   ]
  },
  {
   "cell_type": "markdown",
   "metadata": {},
   "source": [
    "This concludes the program."
   ]
  },
  {
   "cell_type": "markdown",
   "metadata": {},
   "source": [
    "# Finding the intercept, coefficient value and error term."
   ]
  },
  {
   "cell_type": "markdown",
   "metadata": {},
   "source": [
    "The following dataset of size n = 31 provides employee-wise\n",
    "salary. The variables are y = salary of an individual employee and\n",
    "x = years of experience of each individual employee .\n",
    "Find the intercept, coefficient value and error term for this\n",
    "regression problem in Python. How would you convey (interpret)\n",
    "these results in a business context?"
   ]
  },
  {
   "cell_type": "code",
   "execution_count": 9,
   "metadata": {},
   "outputs": [],
   "source": [
    "#import required libraries\n",
    "import numpy as np\n",
    "import pandas as pd\n",
    "from sklearn.linear_model import LinearRegression\n",
    "from sklearn.metrics import mean_squared_error\n",
    "import math"
   ]
  },
  {
   "cell_type": "code",
   "execution_count": 10,
   "metadata": {},
   "outputs": [],
   "source": [
    "#Getting the Salary data into dataset dataframe \n",
    "dataset = pd.read_csv('Salary_Data.csv')"
   ]
  },
  {
   "cell_type": "code",
   "execution_count": 11,
   "metadata": {},
   "outputs": [
    {
     "data": {
      "text/html": [
       "<div>\n",
       "<style scoped>\n",
       "    .dataframe tbody tr th:only-of-type {\n",
       "        vertical-align: middle;\n",
       "    }\n",
       "\n",
       "    .dataframe tbody tr th {\n",
       "        vertical-align: top;\n",
       "    }\n",
       "\n",
       "    .dataframe thead th {\n",
       "        text-align: right;\n",
       "    }\n",
       "</style>\n",
       "<table border=\"1\" class=\"dataframe\">\n",
       "  <thead>\n",
       "    <tr style=\"text-align: right;\">\n",
       "      <th></th>\n",
       "      <th>YearsExperience</th>\n",
       "      <th>Salary</th>\n",
       "    </tr>\n",
       "  </thead>\n",
       "  <tbody>\n",
       "    <tr>\n",
       "      <td>0</td>\n",
       "      <td>1.1</td>\n",
       "      <td>39343.0</td>\n",
       "    </tr>\n",
       "    <tr>\n",
       "      <td>1</td>\n",
       "      <td>1.3</td>\n",
       "      <td>46205.0</td>\n",
       "    </tr>\n",
       "    <tr>\n",
       "      <td>2</td>\n",
       "      <td>1.5</td>\n",
       "      <td>37731.0</td>\n",
       "    </tr>\n",
       "    <tr>\n",
       "      <td>3</td>\n",
       "      <td>2.0</td>\n",
       "      <td>43525.0</td>\n",
       "    </tr>\n",
       "    <tr>\n",
       "      <td>4</td>\n",
       "      <td>2.2</td>\n",
       "      <td>39891.0</td>\n",
       "    </tr>\n",
       "  </tbody>\n",
       "</table>\n",
       "</div>"
      ],
      "text/plain": [
       "   YearsExperience   Salary\n",
       "0              1.1  39343.0\n",
       "1              1.3  46205.0\n",
       "2              1.5  37731.0\n",
       "3              2.0  43525.0\n",
       "4              2.2  39891.0"
      ]
     },
     "execution_count": 11,
     "metadata": {},
     "output_type": "execute_result"
    }
   ],
   "source": [
    "#Listing top 5 rows to see successful read operation\n",
    "dataset.head()"
   ]
  },
  {
   "cell_type": "code",
   "execution_count": 12,
   "metadata": {},
   "outputs": [],
   "source": [
    "# Extracting dataframe data into x & y columns \n",
    "x=dataset['YearsExperience'].values.reshape(-1,1)\n",
    "y=dataset['Salary'].values.reshape(-1,1)"
   ]
  },
  {
   "cell_type": "code",
   "execution_count": 13,
   "metadata": {},
   "outputs": [
    {
     "data": {
      "text/plain": [
       "LinearRegression()"
      ]
     },
     "execution_count": 13,
     "metadata": {},
     "output_type": "execute_result"
    }
   ],
   "source": [
    "#Using Linear Regression fit method for x & Y values\n",
    "reg = LinearRegression()\n",
    "reg.fit(x,y)"
   ]
  },
  {
   "cell_type": "code",
   "execution_count": 14,
   "metadata": {},
   "outputs": [
    {
     "name": "stdout",
     "output_type": "stream",
     "text": [
      "Coefficient obtained is [[9449.96232146]]\n",
      "Intercept obtained is [25792.20019867]\n"
     ]
    }
   ],
   "source": [
    "# Print the required coefficient and intercept values for current assignment\n",
    "print ('Coefficient obtained is' , reg.coef_)\n",
    "print ('Intercept obtained is', reg.intercept_)"
   ]
  },
  {
   "cell_type": "code",
   "execution_count": 15,
   "metadata": {},
   "outputs": [
    {
     "name": "stdout",
     "output_type": "stream",
     "text": [
      "30\n"
     ]
    }
   ],
   "source": [
    "# Getting the size of data set to use for calculating error terms\n",
    "num_data = x.shape[0]\n",
    "print (num_data)"
   ]
  },
  {
   "cell_type": "code",
   "execution_count": 16,
   "metadata": {},
   "outputs": [],
   "source": [
    "# Using linear regression predict method on x values to predict y values\n",
    "y_pred = reg.predict(x)\n",
    "\n",
    "# Calculating mean squared error with known data set y and predicted data set y_pred\n",
    "mse = mean_squared_error(y,y_pred)\n",
    "\n",
    "# Calculating root mean square error\n",
    "rmse = math.sqrt(mse)\n",
    "\n",
    "# Calculating root square error\n",
    "rse = mse * num_data\n",
    "rse /= num_data -2\n",
    "rse = math.sqrt(rse)\n",
    "\n",
    "# Calculating r-square error \n",
    "r2_score=reg.score(x,y)"
   ]
  },
  {
   "cell_type": "code",
   "execution_count": 17,
   "metadata": {},
   "outputs": [
    {
     "name": "stdout",
     "output_type": "stream",
     "text": [
      "RMSE:  5592.043608760661\n",
      "RSE:  5788.3150511193935\n",
      "R2 Score:  0.9569566641435086\n"
     ]
    }
   ],
   "source": [
    "# Print all errors obtained from above calculations\n",
    "print ('RMSE: ',rmse)\n",
    "print ('RSE: ',rse)\n",
    "print ('R2 Score: ', r2_score)"
   ]
  },
  {
   "cell_type": "code",
   "execution_count": null,
   "metadata": {},
   "outputs": [],
   "source": []
  }
 ],
 "metadata": {
  "kernelspec": {
   "display_name": "Python 3",
   "language": "python",
   "name": "python3"
  },
  "language_info": {
   "codemirror_mode": {
    "name": "ipython",
    "version": 3
   },
   "file_extension": ".py",
   "mimetype": "text/x-python",
   "name": "python",
   "nbconvert_exporter": "python",
   "pygments_lexer": "ipython3",
   "version": "3.7.4"
  }
 },
 "nbformat": 4,
 "nbformat_minor": 2
}
